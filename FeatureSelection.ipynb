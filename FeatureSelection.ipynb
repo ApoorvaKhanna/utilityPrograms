{
  "nbformat": 4,
  "nbformat_minor": 0,
  "metadata": {
    "colab": {
      "name": "FeatureSelection",
      "provenance": [],
      "collapsed_sections": [],
      "include_colab_link": true
    },
    "kernelspec": {
      "name": "python3",
      "display_name": "Python 3"
    }
  },
  "cells": [
    {
      "cell_type": "markdown",
      "metadata": {
        "id": "view-in-github",
        "colab_type": "text"
      },
      "source": [
        "<a href=\"https://colab.research.google.com/github/ApoorvaKhanna/utilityPrograms/blob/master/FeatureSelection.ipynb\" target=\"_parent\"><img src=\"https://colab.research.google.com/assets/colab-badge.svg\" alt=\"Open In Colab\"/></a>"
      ]
    },
    {
      "cell_type": "markdown",
      "metadata": {
        "id": "niZee3pPX4JI",
        "colab_type": "text"
      },
      "source": [
        "# Demonstration of feature selection of categorical variables for breast cancer dataset .\n",
        "\n",
        "**Reading data**\n",
        "\n",
        "\n",
        "**Converting to numpy array with strings**\n",
        "\n",
        "**Use of Ordial Encoder**\n",
        "\n",
        "**Use of Label Encoder**\n",
        "\n",
        "**Feature Selection Techniques :**\n",
        "\n",
        "**Chi-Squared Statistic**\n",
        "\n",
        "**Mutual Information Statistic**\n",
        "\n",
        "\n",
        "\n",
        "[Reference ](https://machinelearningmastery.com/feature-selection-with-categorical-data/)"
      ]
    },
    {
      "cell_type": "markdown",
      "metadata": {
        "id": "k7DOqK3LPf81",
        "colab_type": "text"
      },
      "source": [
        "**Import Library**"
      ]
    },
    {
      "cell_type": "code",
      "metadata": {
        "id": "NCFsUPV4OttF",
        "colab_type": "code",
        "colab": {}
      },
      "source": [
        "import pandas as pd\n",
        "import numpy as np\n",
        "\n",
        "from sklearn.model_selection import train_test_split\n",
        "from sklearn.preprocessing import LabelEncoder\n",
        "from sklearn.preprocessing import OrdinalEncoder\n",
        "from sklearn.feature_selection import SelectKBest\n",
        "import sklearn.feature_selection as skfs\n",
        "from matplotlib import pyplot\n",
        "from sklearn.linear_model import LogisticRegression\n",
        "from sklearn.metrics import accuracy_score,f1_score"
      ],
      "execution_count": 0,
      "outputs": []
    },
    {
      "cell_type": "markdown",
      "metadata": {
        "id": "IQJ_bKE_Ppmn",
        "colab_type": "text"
      },
      "source": [
        "**Import Data**\n",
        "\n",
        "\n",
        "Dataset : [Breast Cancer](https://archive.ics.uci.edu/ml/datasets/Breast+Cancer)"
      ]
    },
    {
      "cell_type": "code",
      "metadata": {
        "id": "FkuDmGR8PHsJ",
        "colab_type": "code",
        "colab": {}
      },
      "source": [
        "filename = 'breast-cancer.csv'\n",
        "data = pd.read_csv(filename,header =None)\n",
        "# retrieve numpy array\n",
        "dataset = data.values"
      ],
      "execution_count": 0,
      "outputs": []
    },
    {
      "cell_type": "code",
      "metadata": {
        "id": "Gq_x4WMRPPr_",
        "colab_type": "code",
        "outputId": "971b358a-8b7e-4890-8abf-5ca5b55b0adf",
        "colab": {
          "base_uri": "https://localhost:8080/",
          "height": 206
        }
      },
      "source": [
        "data.head()"
      ],
      "execution_count": 158,
      "outputs": [
        {
          "output_type": "execute_result",
          "data": {
            "text/html": [
              "<div>\n",
              "<style scoped>\n",
              "    .dataframe tbody tr th:only-of-type {\n",
              "        vertical-align: middle;\n",
              "    }\n",
              "\n",
              "    .dataframe tbody tr th {\n",
              "        vertical-align: top;\n",
              "    }\n",
              "\n",
              "    .dataframe thead th {\n",
              "        text-align: right;\n",
              "    }\n",
              "</style>\n",
              "<table border=\"1\" class=\"dataframe\">\n",
              "  <thead>\n",
              "    <tr style=\"text-align: right;\">\n",
              "      <th></th>\n",
              "      <th>0</th>\n",
              "      <th>1</th>\n",
              "      <th>2</th>\n",
              "      <th>3</th>\n",
              "      <th>4</th>\n",
              "      <th>5</th>\n",
              "      <th>6</th>\n",
              "      <th>7</th>\n",
              "      <th>8</th>\n",
              "      <th>9</th>\n",
              "    </tr>\n",
              "  </thead>\n",
              "  <tbody>\n",
              "    <tr>\n",
              "      <th>0</th>\n",
              "      <td>'40-49'</td>\n",
              "      <td>'premeno'</td>\n",
              "      <td>'15-19'</td>\n",
              "      <td>'0-2'</td>\n",
              "      <td>'yes'</td>\n",
              "      <td>'3'</td>\n",
              "      <td>'right'</td>\n",
              "      <td>'left_up'</td>\n",
              "      <td>'no'</td>\n",
              "      <td>'recurrence-events'</td>\n",
              "    </tr>\n",
              "    <tr>\n",
              "      <th>1</th>\n",
              "      <td>'50-59'</td>\n",
              "      <td>'ge40'</td>\n",
              "      <td>'15-19'</td>\n",
              "      <td>'0-2'</td>\n",
              "      <td>'no'</td>\n",
              "      <td>'1'</td>\n",
              "      <td>'right'</td>\n",
              "      <td>'central'</td>\n",
              "      <td>'no'</td>\n",
              "      <td>'no-recurrence-events'</td>\n",
              "    </tr>\n",
              "    <tr>\n",
              "      <th>2</th>\n",
              "      <td>'50-59'</td>\n",
              "      <td>'ge40'</td>\n",
              "      <td>'35-39'</td>\n",
              "      <td>'0-2'</td>\n",
              "      <td>'no'</td>\n",
              "      <td>'2'</td>\n",
              "      <td>'left'</td>\n",
              "      <td>'left_low'</td>\n",
              "      <td>'no'</td>\n",
              "      <td>'recurrence-events'</td>\n",
              "    </tr>\n",
              "    <tr>\n",
              "      <th>3</th>\n",
              "      <td>'40-49'</td>\n",
              "      <td>'premeno'</td>\n",
              "      <td>'35-39'</td>\n",
              "      <td>'0-2'</td>\n",
              "      <td>'yes'</td>\n",
              "      <td>'3'</td>\n",
              "      <td>'right'</td>\n",
              "      <td>'left_low'</td>\n",
              "      <td>'yes'</td>\n",
              "      <td>'no-recurrence-events'</td>\n",
              "    </tr>\n",
              "    <tr>\n",
              "      <th>4</th>\n",
              "      <td>'40-49'</td>\n",
              "      <td>'premeno'</td>\n",
              "      <td>'30-34'</td>\n",
              "      <td>'3-5'</td>\n",
              "      <td>'yes'</td>\n",
              "      <td>'2'</td>\n",
              "      <td>'left'</td>\n",
              "      <td>'right_up'</td>\n",
              "      <td>'no'</td>\n",
              "      <td>'recurrence-events'</td>\n",
              "    </tr>\n",
              "  </tbody>\n",
              "</table>\n",
              "</div>"
            ],
            "text/plain": [
              "         0          1        2  ...           7      8                       9\n",
              "0  '40-49'  'premeno'  '15-19'  ...   'left_up'   'no'     'recurrence-events'\n",
              "1  '50-59'     'ge40'  '15-19'  ...   'central'   'no'  'no-recurrence-events'\n",
              "2  '50-59'     'ge40'  '35-39'  ...  'left_low'   'no'     'recurrence-events'\n",
              "3  '40-49'  'premeno'  '35-39'  ...  'left_low'  'yes'  'no-recurrence-events'\n",
              "4  '40-49'  'premeno'  '30-34'  ...  'right_up'   'no'     'recurrence-events'\n",
              "\n",
              "[5 rows x 10 columns]"
            ]
          },
          "metadata": {
            "tags": []
          },
          "execution_count": 158
        }
      ]
    },
    {
      "cell_type": "code",
      "metadata": {
        "id": "cPrI9nyVPRA3",
        "colab_type": "code",
        "colab": {}
      },
      "source": [
        "\n",
        "\n",
        "X = dataset[:, :-1]\n",
        "y = dataset[:,-1]"
      ],
      "execution_count": 0,
      "outputs": []
    },
    {
      "cell_type": "code",
      "metadata": {
        "id": "IPMd_i7ORxIF",
        "colab_type": "code",
        "colab": {}
      },
      "source": [
        "X = X.astype(str)"
      ],
      "execution_count": 0,
      "outputs": []
    },
    {
      "cell_type": "code",
      "metadata": {
        "id": "saEdhC6rR2Z_",
        "colab_type": "code",
        "colab": {}
      },
      "source": [
        "# load the dataset\n",
        "def load_dataset(filename):\n",
        "\t# load the dataset as a pandas DataFrame\n",
        "\tdata = pd.read_csv(filename, header=None)\n",
        "\t# retrieve numpy array\n",
        "\tdataset = data.values\n",
        "\t# split into input (X) and output (y) variables\n",
        "\tX = dataset[:, :-1]\n",
        "\ty = dataset[:,-1]\n",
        "\t# format all fields as string\n",
        "\tX = X.astype(str)\n",
        "\treturn X, y\n",
        " \n"
      ],
      "execution_count": 0,
      "outputs": []
    },
    {
      "cell_type": "code",
      "metadata": {
        "id": "9A14sbw0R3cQ",
        "colab_type": "code",
        "outputId": "641bc2a4-8787-405d-a351-ebde1941f705",
        "colab": {
          "base_uri": "https://localhost:8080/",
          "height": 53
        }
      },
      "source": [
        "# load the dataset\n",
        "X, y = load_dataset('breast-cancer.csv')\n",
        "# split into train and test sets\n",
        "X_train, X_test, y_train, y_test = train_test_split(X, y, test_size=0.33, random_state=1)\n",
        "# summarize\n",
        "print('Train', X_train.shape, y_train.shape)\n",
        "print('Test', X_test.shape, y_test.shape)"
      ],
      "execution_count": 162,
      "outputs": [
        {
          "output_type": "stream",
          "text": [
            "Train (191, 9) (191,)\n",
            "Test (95, 9) (95,)\n"
          ],
          "name": "stdout"
        }
      ]
    },
    {
      "cell_type": "markdown",
      "metadata": {
        "id": "JexTvjk-XCC5",
        "colab_type": "text"
      },
      "source": [
        "[OrinalEncoder](https://scikit-learn.org/stable/modules/generated/sklearn.preprocessing.OrdinalEncoder.html)\n",
        " Used to Encode ,input variables in single column of features per variable\n",
        "\n",
        "\n",
        "\n",
        "\n",
        "[LabelEncoder](https://scikit-learn.org/stable/modules/generated/sklearn.preprocessing.LabelEncoder.html)\n",
        "Used to Encode , Target variables in different classes , here is for 0 or 1 (Binary Classification)"
      ]
    },
    {
      "cell_type": "code",
      "metadata": {
        "id": "Rq0YVRmsU3r7",
        "colab_type": "code",
        "colab": {}
      },
      "source": [
        "# prepare input data\n",
        "def prepare_inputs(X_train, X_test):\n",
        "\toe = OrdinalEncoder()\n",
        "\toe.fit(X_train)\n",
        "\tX_train_enc = oe.transform(X_train)\n",
        "\tX_test_enc = oe.transform(X_test)\n",
        "\treturn X_train_enc, X_test_enc\n",
        "\n",
        "# prepare target\n",
        "def prepare_targets(y_train, y_test):\n",
        "\tle = LabelEncoder()\n",
        "\tle.fit(y_train)\n",
        "\ty_train_enc = le.transform(y_train)\n",
        "\ty_test_enc = le.transform(y_test)\n",
        "\treturn y_train_enc, y_test_enc"
      ],
      "execution_count": 0,
      "outputs": []
    },
    {
      "cell_type": "code",
      "metadata": {
        "id": "mWE6m2uABk9B",
        "colab_type": "code",
        "colab": {
          "base_uri": "https://localhost:8080/",
          "height": 35
        },
        "outputId": "65fb317d-92e3-45a5-8bc2-df59450d179c"
      },
      "source": [
        "y_train.shape\n"
      ],
      "execution_count": 164,
      "outputs": [
        {
          "output_type": "execute_result",
          "data": {
            "text/plain": [
              "(191,)"
            ]
          },
          "metadata": {
            "tags": []
          },
          "execution_count": 164
        }
      ]
    },
    {
      "cell_type": "code",
      "metadata": {
        "id": "u8tB0ZgYW-Fs",
        "colab_type": "code",
        "colab": {}
      },
      "source": [
        "\n",
        "# prepare input data\n",
        "X_train_enc, X_test_enc = prepare_inputs(X_train, X_test)\n",
        "# prepare output data\n",
        "y_train_enc, y_test_enc = prepare_targets(y_train, y_test)"
      ],
      "execution_count": 0,
      "outputs": []
    },
    {
      "cell_type": "markdown",
      "metadata": {
        "id": "P7-hs0G9bHlx",
        "colab_type": "text"
      },
      "source": [
        "**The Pearson’s chi-squared statistical hypothesis is an example of a test for independence between categorical variables.**"
      ]
    },
    {
      "cell_type": "code",
      "metadata": {
        "id": "EVxHzW1Ibeun",
        "colab_type": "code",
        "colab": {}
      },
      "source": [
        "def select_features(feature_select_func,X_train, y_train, X_test):\n",
        "\tfs = SelectKBest(score_func=feature_select_func , k=4)\n",
        "\tfs.fit(X_train, y_train)\n",
        "\tX_train_fs = fs.transform(X_train)\n",
        "\tX_test_fs = fs.transform(X_test)\n",
        "\treturn X_train_fs, X_test_fs, fs"
      ],
      "execution_count": 0,
      "outputs": []
    },
    {
      "cell_type": "code",
      "metadata": {
        "id": "9Ok8RhptbEph",
        "colab_type": "code",
        "outputId": "2aac90a7-3720-4c91-e273-cbf07ac5d568",
        "colab": {
          "base_uri": "https://localhost:8080/",
          "height": 1000
        }
      },
      "source": [
        "selection_technique = [skfs.chi2,skfs.f_classif,skfs.mutual_info_classif]\n",
        "for i,name in enumerate(selection_technique):\n",
        "\t#print(i)\n",
        "\tX_train_fs, X_test_fs, fs = select_features(name,X_train_enc, y_train_enc, X_test_enc)\n",
        "\t# what are scores for the features\n",
        "\tfor i in range(len(fs.scores_)):\n",
        "\t\tprint('Feature %d: %f' % (i, fs.scores_[i]))\n",
        "\t# plot the scores\n",
        "\tpyplot.title(str(name))\n",
        "\tpyplot.bar([i for i in range(len(fs.scores_))], fs.scores_)\n",
        "\tpyplot.show()"
      ],
      "execution_count": 167,
      "outputs": [
        {
          "output_type": "stream",
          "text": [
            "Feature 0: 0.472553\n",
            "Feature 1: 0.029193\n",
            "Feature 2: 2.137658\n",
            "Feature 3: 29.381059\n",
            "Feature 4: 8.222601\n",
            "Feature 5: 8.100183\n",
            "Feature 6: 1.273822\n",
            "Feature 7: 0.950682\n",
            "Feature 8: 3.699989\n"
          ],
          "name": "stdout"
        },
        {
          "output_type": "display_data",
          "data": {
            "image/png": "[encoded data removed]",
            "text/plain": [
              "<Figure size 432x288 with 1 Axes>"
            ]
          },
          "metadata": {
            "tags": []
          }
        },
        {
          "output_type": "stream",
          "text": [
            "Feature 0: 1.192779\n",
            "Feature 1: 0.032763\n",
            "Feature 2: 1.901125\n",
            "Feature 3: 8.661716\n",
            "Feature 4: 8.436469\n",
            "Feature 5: 18.030146\n",
            "Feature 6: 2.343632\n",
            "Feature 7: 1.369470\n",
            "Feature 8: 5.020085\n"
          ],
          "name": "stdout"
        },
        {
          "output_type": "display_data",
          "data": {
            "image/png": "[encoded data removed]",
            "text/plain": [
              "<Figure size 432x288 with 1 Axes>"
            ]
          },
          "metadata": {
            "tags": []
          }
        },
        {
          "output_type": "stream",
          "text": [
            "Feature 0: 0.000000\n",
            "Feature 1: 0.013834\n",
            "Feature 2: 0.061525\n",
            "Feature 3: 0.000000\n",
            "Feature 4: 0.015166\n",
            "Feature 5: 0.100658\n",
            "Feature 6: 0.009620\n",
            "Feature 7: 0.023526\n",
            "Feature 8: 0.000000\n"
          ],
          "name": "stdout"
        },
        {
          "output_type": "display_data",
          "data": {
            "image/png": "[encoded data removed]",
            "text/plain": [
              "<Figure size 432x288 with 1 Axes>"
            ]
          },
          "metadata": {
            "tags": []
          }
        }
      ]
    },
    {
      "cell_type": "markdown",
      "metadata": {
        "id": "cG9pwK7kb2_V",
        "colab_type": "text"
      },
      "source": [
        "Different Feature Selection Techniques gives different important features . So , One of the ways is to select different n features and compare accuracy .\n",
        "\n",
        "\n",
        "Using Logistic Regression"
      ]
    },
    {
      "cell_type": "code",
      "metadata": {
        "id": "KFi7tJt9bkgL",
        "colab_type": "code",
        "colab": {
          "base_uri": "https://localhost:8080/",
          "height": 235
        },
        "outputId": "b6d81585-9b81-4c0e-8a41-98b89f3ac51f"
      },
      "source": [
        "\n",
        "print(\"Base Model With All features\")\n",
        "model = LogisticRegression(solver='lbfgs')\n",
        "model.fit(X_train_enc, y_train_enc)\n",
        "# evaluate the model\n",
        "yhat = model.predict(X_test_enc)\n",
        "# evaluate predictions\n",
        "accuracy = accuracy_score(y_test_enc, yhat)\n",
        "f1score = f1_score(y_test_enc,yhat) \n",
        "print('Accuracy: %.2f' % (accuracy*100))\n",
        "print('F1Score: %.2f' % (f1score*100))\n",
        "\n",
        "#fit the model\n",
        "\n",
        "for i,name in enumerate(selection_technique):\n",
        "  print(\"Model -> \" , name)\n",
        "  X_train_fs, X_test_fs, fs = select_features(name,X_train_enc, y_train_enc, X_test_enc)\n",
        "  model = LogisticRegression(solver='liblinear')\n",
        "  model.fit(X_train_fs, y_train_enc)\n",
        "  # evaluate the model\n",
        "  yhat = model.predict(X_test_fs)\n",
        "  # evaluate predictions\n",
        "  accuracy = accuracy_score(y_test_enc, yhat)\n",
        "  f1score = f1_score(y_test_enc,yhat) \n",
        "  print('Accuracy: %.2f' % (accuracy*100))\n",
        "  print('F1Score: %.2f' % (f1score*100))\n"
      ],
      "execution_count": 176,
      "outputs": [
        {
          "output_type": "stream",
          "text": [
            "Base Model With All features\n",
            "Accuracy: 75.79\n",
            "F1Score: 48.89\n",
            "Model ->  <function chi2 at 0x7fc3cdde2c80>\n",
            "[LibLinear]Accuracy: 73.68\n",
            "F1Score: 39.02\n",
            "Model ->  <function f_classif at 0x7fc3cdde2b70>\n",
            "[LibLinear]Accuracy: 73.68\n",
            "F1Score: 39.02\n",
            "Model ->  <function mutual_info_classif at 0x7fc3cbaff6a8>\n",
            "[LibLinear]Accuracy: 74.74\n",
            "F1Score: 45.45\n"
          ],
          "name": "stdout"
        }
      ]
    },
    {
      "cell_type": "code",
      "metadata": {
        "id": "n3LD9CAhw645",
        "colab_type": "code",
        "colab": {
          "base_uri": "https://localhost:8080/",
          "height": 297
        },
        "outputId": "cfd42fc2-6897-456c-e698-58db7a23e4d7"
      },
      "source": [
        "pyplot.scatter(y_test_enc, yhat , )\n",
        "pyplot.xlabel('Predicted')\n",
        "pyplot.ylabel('True')\n",
        "pyplot.legend()\n",
        "pyplot.show()"
      ],
      "execution_count": 170,
      "outputs": [
        {
          "output_type": "stream",
          "text": [
            "No handles with labels found to put in legend.\n"
          ],
          "name": "stderr"
        },
        {
          "output_type": "display_data",
          "data": {
            "image/png": "[encoded data removed]",
            "text/plain": [
              "<Figure size 432x288 with 1 Axes>"
            ]
          },
          "metadata": {
            "tags": []
          }
        }
      ]
    },
    {
      "cell_type": "code",
      "metadata": {
        "id": "5W594VE-FIFg",
        "colab_type": "code",
        "colab": {}
      },
      "source": [
        ""
      ],
      "execution_count": 0,
      "outputs": []
    },
    {
      "cell_type": "code",
      "metadata": {
        "id": "KTZaguD_BAUv",
        "colab_type": "code",
        "colab": {}
      },
      "source": [
        ""
      ],
      "execution_count": 0,
      "outputs": []
    }
  ]
}