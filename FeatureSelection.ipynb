{
  "nbformat": 4,
  "nbformat_minor": 0,
  "metadata": {
    "colab": {
      "name": "FeatureSelection",
      "provenance": [],
      "collapsed_sections": [],
      "include_colab_link": true
    },
    "kernelspec": {
      "name": "python3",
      "display_name": "Python 3"
    }
  },
  "cells": [
    {
      "cell_type": "markdown",
      "metadata": {
        "id": "view-in-github",
        "colab_type": "text"
      },
      "source": [
        "<a href=\"https://colab.research.google.com/github/ApoorvaKhanna/utilityPrograms/blob/master/FeatureSelection.ipynb\" target=\"_parent\"><img src=\"https://colab.research.google.com/assets/colab-badge.svg\" alt=\"Open In Colab\"/></a>"
      ]
    },
    {
      "cell_type": "markdown",
      "metadata": {
        "id": "niZee3pPX4JI",
        "colab_type": "text"
      },
      "source": [
        "# Demonstration of feature selection of categorical variables for breast cancer dataset .\n",
        "\n",
        "**Reading data**\n",
        "\n",
        "\n",
        "**Converting to numpy array with strings**\n",
        "\n",
        "**Use of Ordial Encoder**\n",
        "\n",
        "**Use of Label Encoder**\n",
        "\n",
        "**Feature Selection Techniques :**\n",
        "\n",
        "**Chi-Squared Statistic**\n",
        "\n",
        "**Mutual Information Statistic**\n",
        "\n",
        "**f_classif**\n",
        "\n",
        "\n",
        "\n",
        "[Reference ](https://machinelearningmastery.com/feature-selection-with-categorical-data/)"
      ]
    },
    {
      "cell_type": "markdown",
      "metadata": {
        "id": "k7DOqK3LPf81",
        "colab_type": "text"
      },
      "source": [
        "**Import Library**"
      ]
    },
    {
      "cell_type": "code",
      "metadata": {
        "id": "NCFsUPV4OttF",
        "colab_type": "code",
        "colab": {
          "base_uri": "https://localhost:8080/",
          "height": 655
        },
        "outputId": "d94049a2-2ce4-4544-874f-66d365c92bd3"
      },
      "source": [
        "import pandas as pd\n",
        "import numpy as np\n",
        "\n",
        "from sklearn.model_selection import train_test_split\n",
        "from sklearn.preprocessing import LabelEncoder\n",
        "from sklearn.preprocessing import OrdinalEncoder\n",
        "from sklearn.feature_selection import SelectKBest\n",
        "import sklearn.feature_selection as skfs\n",
        "from matplotlib import pyplot\n",
        "from sklearn.linear_model import LogisticRegression\n",
        "from sklearn.metrics import accuracy_score,f1_score\n",
        "from sklearn.model_selection import KFold\n",
        "\n",
        "\n",
        "from sklearn.svm import SVC\n",
        "\n",
        "from sklearn import tree\n",
        "\n",
        "!pip install tensorflow==2.0\n",
        "import tensorflow as tf\n",
        "from tensorflow.keras import layers\n",
        "from tensorflow import feature_column\n",
        "from tensorflow.keras import datasets, layers, models,regularizers\n"
      ],
      "execution_count": 54,
      "outputs": [
        {
          "output_type": "stream",
          "text": [
            "Requirement already satisfied: tensorflow==2.0 in /usr/local/lib/python3.6/dist-packages (2.0.0)\n",
            "Requirement already satisfied: opt-einsum>=2.3.2 in /usr/local/lib/python3.6/dist-packages (from tensorflow==2.0) (3.1.0)\n",
            "Requirement already satisfied: grpcio>=1.8.6 in /usr/local/lib/python3.6/dist-packages (from tensorflow==2.0) (1.15.0)\n",
            "Requirement already satisfied: absl-py>=0.7.0 in /usr/local/lib/python3.6/dist-packages (from tensorflow==2.0) (0.8.1)\n",
            "Requirement already satisfied: numpy<2.0,>=1.16.0 in /usr/local/lib/python3.6/dist-packages (from tensorflow==2.0) (1.17.4)\n",
            "Requirement already satisfied: termcolor>=1.1.0 in /usr/local/lib/python3.6/dist-packages (from tensorflow==2.0) (1.1.0)\n",
            "Requirement already satisfied: keras-applications>=1.0.8 in /usr/local/lib/python3.6/dist-packages (from tensorflow==2.0) (1.0.8)\n",
            "Requirement already satisfied: wrapt>=1.11.1 in /usr/local/lib/python3.6/dist-packages (from tensorflow==2.0) (1.11.2)\n",
            "Requirement already satisfied: keras-preprocessing>=1.0.5 in /usr/local/lib/python3.6/dist-packages (from tensorflow==2.0) (1.1.0)\n",
            "Requirement already satisfied: tensorflow-estimator<2.1.0,>=2.0.0 in /usr/local/lib/python3.6/dist-packages (from tensorflow==2.0) (2.0.1)\n",
            "Requirement already satisfied: wheel>=0.26 in /usr/local/lib/python3.6/dist-packages (from tensorflow==2.0) (0.33.6)\n",
            "Requirement already satisfied: tensorboard<2.1.0,>=2.0.0 in /usr/local/lib/python3.6/dist-packages (from tensorflow==2.0) (2.0.2)\n",
            "Requirement already satisfied: gast==0.2.2 in /usr/local/lib/python3.6/dist-packages (from tensorflow==2.0) (0.2.2)\n",
            "Requirement already satisfied: six>=1.10.0 in /usr/local/lib/python3.6/dist-packages (from tensorflow==2.0) (1.12.0)\n",
            "Requirement already satisfied: astor>=0.6.0 in /usr/local/lib/python3.6/dist-packages (from tensorflow==2.0) (0.8.0)\n",
            "Requirement already satisfied: google-pasta>=0.1.6 in /usr/local/lib/python3.6/dist-packages (from tensorflow==2.0) (0.1.8)\n",
            "Requirement already satisfied: protobuf>=3.6.1 in /usr/local/lib/python3.6/dist-packages (from tensorflow==2.0) (3.10.0)\n",
            "Requirement already satisfied: h5py in /usr/local/lib/python3.6/dist-packages (from keras-applications>=1.0.8->tensorflow==2.0) (2.8.0)\n",
            "Requirement already satisfied: requests<3,>=2.21.0 in /usr/local/lib/python3.6/dist-packages (from tensorboard<2.1.0,>=2.0.0->tensorflow==2.0) (2.21.0)\n",
            "Requirement already satisfied: google-auth<2,>=1.6.3 in /usr/local/lib/python3.6/dist-packages (from tensorboard<2.1.0,>=2.0.0->tensorflow==2.0) (1.7.1)\n",
            "Requirement already satisfied: werkzeug>=0.11.15 in /usr/local/lib/python3.6/dist-packages (from tensorboard<2.1.0,>=2.0.0->tensorflow==2.0) (0.16.0)\n",
            "Requirement already satisfied: google-auth-oauthlib<0.5,>=0.4.1 in /usr/local/lib/python3.6/dist-packages (from tensorboard<2.1.0,>=2.0.0->tensorflow==2.0) (0.4.1)\n",
            "Requirement already satisfied: setuptools>=41.0.0 in /usr/local/lib/python3.6/dist-packages (from tensorboard<2.1.0,>=2.0.0->tensorflow==2.0) (41.6.0)\n",
            "Requirement already satisfied: markdown>=2.6.8 in /usr/local/lib/python3.6/dist-packages (from tensorboard<2.1.0,>=2.0.0->tensorflow==2.0) (3.1.1)\n",
            "Requirement already satisfied: idna<2.9,>=2.5 in /usr/local/lib/python3.6/dist-packages (from requests<3,>=2.21.0->tensorboard<2.1.0,>=2.0.0->tensorflow==2.0) (2.8)\n",
            "Requirement already satisfied: urllib3<1.25,>=1.21.1 in /usr/local/lib/python3.6/dist-packages (from requests<3,>=2.21.0->tensorboard<2.1.0,>=2.0.0->tensorflow==2.0) (1.24.3)\n",
            "Requirement already satisfied: certifi>=2017.4.17 in /usr/local/lib/python3.6/dist-packages (from requests<3,>=2.21.0->tensorboard<2.1.0,>=2.0.0->tensorflow==2.0) (2019.9.11)\n",
            "Requirement already satisfied: chardet<3.1.0,>=3.0.2 in /usr/local/lib/python3.6/dist-packages (from requests<3,>=2.21.0->tensorboard<2.1.0,>=2.0.0->tensorflow==2.0) (3.0.4)\n",
            "Requirement already satisfied: rsa<4.1,>=3.1.4 in /usr/local/lib/python3.6/dist-packages (from google-auth<2,>=1.6.3->tensorboard<2.1.0,>=2.0.0->tensorflow==2.0) (4.0)\n",
            "Requirement already satisfied: pyasn1-modules>=0.2.1 in /usr/local/lib/python3.6/dist-packages (from google-auth<2,>=1.6.3->tensorboard<2.1.0,>=2.0.0->tensorflow==2.0) (0.2.7)\n",
            "Requirement already satisfied: cachetools<3.2,>=2.0.0 in /usr/local/lib/python3.6/dist-packages (from google-auth<2,>=1.6.3->tensorboard<2.1.0,>=2.0.0->tensorflow==2.0) (3.1.1)\n",
            "Requirement already satisfied: requests-oauthlib>=0.7.0 in /usr/local/lib/python3.6/dist-packages (from google-auth-oauthlib<0.5,>=0.4.1->tensorboard<2.1.0,>=2.0.0->tensorflow==2.0) (1.3.0)\n",
            "Requirement already satisfied: pyasn1>=0.1.3 in /usr/local/lib/python3.6/dist-packages (from rsa<4.1,>=3.1.4->google-auth<2,>=1.6.3->tensorboard<2.1.0,>=2.0.0->tensorflow==2.0) (0.4.7)\n",
            "Requirement already satisfied: oauthlib>=3.0.0 in /usr/local/lib/python3.6/dist-packages (from requests-oauthlib>=0.7.0->google-auth-oauthlib<0.5,>=0.4.1->tensorboard<2.1.0,>=2.0.0->tensorflow==2.0) (3.1.0)\n"
          ],
          "name": "stdout"
        }
      ]
    },
    {
      "cell_type": "markdown",
      "metadata": {
        "id": "IQJ_bKE_Ppmn",
        "colab_type": "text"
      },
      "source": [
        "**Import Data**\n",
        "\n",
        "\n",
        "Dataset : [Breast Cancer](https://archive.ics.uci.edu/ml/datasets/Breast+Cancer)"
      ]
    },
    {
      "cell_type": "code",
      "metadata": {
        "id": "FkuDmGR8PHsJ",
        "colab_type": "code",
        "colab": {}
      },
      "source": [
        "filename = 'breast-cancer.csv'\n",
        "data = pd.read_csv(filename,header =None)\n",
        "# retrieve numpy array\n",
        "dataset = data.values"
      ],
      "execution_count": 0,
      "outputs": []
    },
    {
      "cell_type": "code",
      "metadata": {
        "id": "Gq_x4WMRPPr_",
        "colab_type": "code",
        "outputId": "fbf270b3-0394-437f-87e5-912eb4b02c37",
        "colab": {
          "base_uri": "https://localhost:8080/",
          "height": 424
        }
      },
      "source": [
        "data"
      ],
      "execution_count": 49,
      "outputs": [
        {
          "output_type": "execute_result",
          "data": {
            "text/html": [
              "<div>\n",
              "<style scoped>\n",
              "    .dataframe tbody tr th:only-of-type {\n",
              "        vertical-align: middle;\n",
              "    }\n",
              "\n",
              "    .dataframe tbody tr th {\n",
              "        vertical-align: top;\n",
              "    }\n",
              "\n",
              "    .dataframe thead th {\n",
              "        text-align: right;\n",
              "    }\n",
              "</style>\n",
              "<table border=\"1\" class=\"dataframe\">\n",
              "  <thead>\n",
              "    <tr style=\"text-align: right;\">\n",
              "      <th></th>\n",
              "      <th>0</th>\n",
              "      <th>1</th>\n",
              "      <th>2</th>\n",
              "      <th>3</th>\n",
              "      <th>4</th>\n",
              "      <th>5</th>\n",
              "      <th>6</th>\n",
              "      <th>7</th>\n",
              "      <th>8</th>\n",
              "      <th>9</th>\n",
              "    </tr>\n",
              "  </thead>\n",
              "  <tbody>\n",
              "    <tr>\n",
              "      <th>0</th>\n",
              "      <td>'40-49'</td>\n",
              "      <td>'premeno'</td>\n",
              "      <td>'15-19'</td>\n",
              "      <td>'0-2'</td>\n",
              "      <td>'yes'</td>\n",
              "      <td>'3'</td>\n",
              "      <td>'right'</td>\n",
              "      <td>'left_up'</td>\n",
              "      <td>'no'</td>\n",
              "      <td>'recurrence-events'</td>\n",
              "    </tr>\n",
              "    <tr>\n",
              "      <th>1</th>\n",
              "      <td>'50-59'</td>\n",
              "      <td>'ge40'</td>\n",
              "      <td>'15-19'</td>\n",
              "      <td>'0-2'</td>\n",
              "      <td>'no'</td>\n",
              "      <td>'1'</td>\n",
              "      <td>'right'</td>\n",
              "      <td>'central'</td>\n",
              "      <td>'no'</td>\n",
              "      <td>'no-recurrence-events'</td>\n",
              "    </tr>\n",
              "    <tr>\n",
              "      <th>2</th>\n",
              "      <td>'50-59'</td>\n",
              "      <td>'ge40'</td>\n",
              "      <td>'35-39'</td>\n",
              "      <td>'0-2'</td>\n",
              "      <td>'no'</td>\n",
              "      <td>'2'</td>\n",
              "      <td>'left'</td>\n",
              "      <td>'left_low'</td>\n",
              "      <td>'no'</td>\n",
              "      <td>'recurrence-events'</td>\n",
              "    </tr>\n",
              "    <tr>\n",
              "      <th>3</th>\n",
              "      <td>'40-49'</td>\n",
              "      <td>'premeno'</td>\n",
              "      <td>'35-39'</td>\n",
              "      <td>'0-2'</td>\n",
              "      <td>'yes'</td>\n",
              "      <td>'3'</td>\n",
              "      <td>'right'</td>\n",
              "      <td>'left_low'</td>\n",
              "      <td>'yes'</td>\n",
              "      <td>'no-recurrence-events'</td>\n",
              "    </tr>\n",
              "    <tr>\n",
              "      <th>4</th>\n",
              "      <td>'40-49'</td>\n",
              "      <td>'premeno'</td>\n",
              "      <td>'30-34'</td>\n",
              "      <td>'3-5'</td>\n",
              "      <td>'yes'</td>\n",
              "      <td>'2'</td>\n",
              "      <td>'left'</td>\n",
              "      <td>'right_up'</td>\n",
              "      <td>'no'</td>\n",
              "      <td>'recurrence-events'</td>\n",
              "    </tr>\n",
              "    <tr>\n",
              "      <th>...</th>\n",
              "      <td>...</td>\n",
              "      <td>...</td>\n",
              "      <td>...</td>\n",
              "      <td>...</td>\n",
              "      <td>...</td>\n",
              "      <td>...</td>\n",
              "      <td>...</td>\n",
              "      <td>...</td>\n",
              "      <td>...</td>\n",
              "      <td>...</td>\n",
              "    </tr>\n",
              "    <tr>\n",
              "      <th>281</th>\n",
              "      <td>'50-59'</td>\n",
              "      <td>'ge40'</td>\n",
              "      <td>'30-34'</td>\n",
              "      <td>'6-8'</td>\n",
              "      <td>'yes'</td>\n",
              "      <td>'2'</td>\n",
              "      <td>'left'</td>\n",
              "      <td>'left_low'</td>\n",
              "      <td>'no'</td>\n",
              "      <td>'no-recurrence-events'</td>\n",
              "    </tr>\n",
              "    <tr>\n",
              "      <th>282</th>\n",
              "      <td>'50-59'</td>\n",
              "      <td>'premeno'</td>\n",
              "      <td>'25-29'</td>\n",
              "      <td>'3-5'</td>\n",
              "      <td>'yes'</td>\n",
              "      <td>'2'</td>\n",
              "      <td>'left'</td>\n",
              "      <td>'left_low'</td>\n",
              "      <td>'yes'</td>\n",
              "      <td>'no-recurrence-events'</td>\n",
              "    </tr>\n",
              "    <tr>\n",
              "      <th>283</th>\n",
              "      <td>'30-39'</td>\n",
              "      <td>'premeno'</td>\n",
              "      <td>'30-34'</td>\n",
              "      <td>'6-8'</td>\n",
              "      <td>'yes'</td>\n",
              "      <td>'2'</td>\n",
              "      <td>'right'</td>\n",
              "      <td>'right_up'</td>\n",
              "      <td>'no'</td>\n",
              "      <td>'no-recurrence-events'</td>\n",
              "    </tr>\n",
              "    <tr>\n",
              "      <th>284</th>\n",
              "      <td>'50-59'</td>\n",
              "      <td>'premeno'</td>\n",
              "      <td>'15-19'</td>\n",
              "      <td>'0-2'</td>\n",
              "      <td>'no'</td>\n",
              "      <td>'2'</td>\n",
              "      <td>'right'</td>\n",
              "      <td>'left_low'</td>\n",
              "      <td>'no'</td>\n",
              "      <td>'no-recurrence-events'</td>\n",
              "    </tr>\n",
              "    <tr>\n",
              "      <th>285</th>\n",
              "      <td>'50-59'</td>\n",
              "      <td>'ge40'</td>\n",
              "      <td>'40-44'</td>\n",
              "      <td>'0-2'</td>\n",
              "      <td>'no'</td>\n",
              "      <td>'3'</td>\n",
              "      <td>'left'</td>\n",
              "      <td>'right_up'</td>\n",
              "      <td>'no'</td>\n",
              "      <td>'no-recurrence-events'</td>\n",
              "    </tr>\n",
              "  </tbody>\n",
              "</table>\n",
              "<p>286 rows × 10 columns</p>\n",
              "</div>"
            ],
            "text/plain": [
              "           0          1        2  ...           7      8                       9\n",
              "0    '40-49'  'premeno'  '15-19'  ...   'left_up'   'no'     'recurrence-events'\n",
              "1    '50-59'     'ge40'  '15-19'  ...   'central'   'no'  'no-recurrence-events'\n",
              "2    '50-59'     'ge40'  '35-39'  ...  'left_low'   'no'     'recurrence-events'\n",
              "3    '40-49'  'premeno'  '35-39'  ...  'left_low'  'yes'  'no-recurrence-events'\n",
              "4    '40-49'  'premeno'  '30-34'  ...  'right_up'   'no'     'recurrence-events'\n",
              "..       ...        ...      ...  ...         ...    ...                     ...\n",
              "281  '50-59'     'ge40'  '30-34'  ...  'left_low'   'no'  'no-recurrence-events'\n",
              "282  '50-59'  'premeno'  '25-29'  ...  'left_low'  'yes'  'no-recurrence-events'\n",
              "283  '30-39'  'premeno'  '30-34'  ...  'right_up'   'no'  'no-recurrence-events'\n",
              "284  '50-59'  'premeno'  '15-19'  ...  'left_low'   'no'  'no-recurrence-events'\n",
              "285  '50-59'     'ge40'  '40-44'  ...  'right_up'   'no'  'no-recurrence-events'\n",
              "\n",
              "[286 rows x 10 columns]"
            ]
          },
          "metadata": {
            "tags": []
          },
          "execution_count": 49
        }
      ]
    },
    {
      "cell_type": "code",
      "metadata": {
        "id": "cPrI9nyVPRA3",
        "colab_type": "code",
        "colab": {}
      },
      "source": [
        "X = dataset[:, :-1]\n",
        "y = dataset[:,-1]"
      ],
      "execution_count": 0,
      "outputs": []
    },
    {
      "cell_type": "code",
      "metadata": {
        "id": "saEdhC6rR2Z_",
        "colab_type": "code",
        "colab": {}
      },
      "source": [
        "# load the dataset\n",
        "def load_dataset(filename):\n",
        "\t# load the dataset as a pandas DataFrame\n",
        "\tdata = pd.read_csv(filename, header=None)\n",
        "\t# retrieve numpy array\n",
        "\tdataset = data.values\n",
        "\t# split into input (X) and output (y) variables\n",
        "\tX = dataset[:, :-1]\n",
        "\ty = dataset[:,-1]\n",
        "\t# format all fields as string\n",
        "\tX = X.astype(str)\n",
        "\treturn X, y\n",
        " \n"
      ],
      "execution_count": 0,
      "outputs": []
    },
    {
      "cell_type": "code",
      "metadata": {
        "id": "9A14sbw0R3cQ",
        "colab_type": "code",
        "outputId": "dfca4953-d1e1-49f5-cd52-a775d9a69a85",
        "colab": {
          "base_uri": "https://localhost:8080/",
          "height": 53
        }
      },
      "source": [
        "# load the dataset\n",
        "X, y = load_dataset('breast-cancer.csv')\n",
        "# split into train and test sets\n",
        "\n",
        "X_train, X_test, y_train, y_test = train_test_split(X, y, test_size=0.33, random_state=1)\n",
        "# summarize\n",
        "print('Train', X_train.shape, y_train.shape)\n",
        "print('Test', X_test.shape, y_test.shape)"
      ],
      "execution_count": 29,
      "outputs": [
        {
          "output_type": "stream",
          "text": [
            "Train (191, 9) (191,)\n",
            "Test (95, 9) (95,)\n"
          ],
          "name": "stdout"
        }
      ]
    },
    {
      "cell_type": "markdown",
      "metadata": {
        "id": "JexTvjk-XCC5",
        "colab_type": "text"
      },
      "source": [
        "[OrinalEncoder](https://scikit-learn.org/stable/modules/generated/sklearn.preprocessing.OrdinalEncoder.html)\n",
        " Used to Encode ,input variables in single column of features per variable\n",
        "\n",
        "\n",
        "\n",
        "\n",
        "[LabelEncoder](https://scikit-learn.org/stable/modules/generated/sklearn.preprocessing.LabelEncoder.html)\n",
        "Used to Encode , Target variables in different classes , here is for 0 or 1 (Binary Classification)"
      ]
    },
    {
      "cell_type": "code",
      "metadata": {
        "id": "Rq0YVRmsU3r7",
        "colab_type": "code",
        "colab": {}
      },
      "source": [
        "# prepare input data\n",
        "def prepare_inputs(X_train, X_test):\n",
        "\toe = OrdinalEncoder()\n",
        "\toe.fit(X_train)\n",
        "\tX_train_enc = oe.transform(X_train)\n",
        "\tX_test_enc = oe.transform(X_test)\n",
        "\treturn X_train_enc, X_test_enc\n",
        "\n",
        "# prepare target\n",
        "def prepare_targets(y_train, y_test):\n",
        "\tle = LabelEncoder()\n",
        "\tle.fit(y_train)\n",
        "\ty_train_enc = le.transform(y_train)\n",
        "\ty_test_enc = le.transform(y_test)\n",
        "\treturn y_train_enc, y_test_enc"
      ],
      "execution_count": 0,
      "outputs": []
    },
    {
      "cell_type": "code",
      "metadata": {
        "id": "mWE6m2uABk9B",
        "colab_type": "code",
        "colab": {
          "base_uri": "https://localhost:8080/",
          "height": 35
        },
        "outputId": "d72c2a71-3d38-4d2e-d2e6-a2a878424e50"
      },
      "source": [
        "y_train.shape"
      ],
      "execution_count": 31,
      "outputs": [
        {
          "output_type": "execute_result",
          "data": {
            "text/plain": [
              "(191,)"
            ]
          },
          "metadata": {
            "tags": []
          },
          "execution_count": 31
        }
      ]
    },
    {
      "cell_type": "code",
      "metadata": {
        "id": "u8tB0ZgYW-Fs",
        "colab_type": "code",
        "colab": {}
      },
      "source": [
        "# prepare input data\n",
        "X_train_enc, X_test_enc = prepare_inputs(X_train, X_test)\n",
        "# prepare output data\n",
        "y_train_enc, y_test_enc = prepare_targets(y_train, y_test)"
      ],
      "execution_count": 0,
      "outputs": []
    },
    {
      "cell_type": "markdown",
      "metadata": {
        "id": "P7-hs0G9bHlx",
        "colab_type": "text"
      },
      "source": [
        "**chi2 : The Pearson’s chi-squared statistical hypothesis is an example of a test for independence between categorical variables.**\n",
        "\n",
        "**f_classif : Compute the ANOVA F-value for the provided sample.**\n",
        "\n",
        "**mutual_info_classif : Mutual information (MI) [1] between two random variables is a non-negative value, which measures the dependency between the variables. It is equal to zero if and only if two random variables are independent, and higher values mean higher dependency.**"
      ]
    },
    {
      "cell_type": "code",
      "metadata": {
        "id": "EVxHzW1Ibeun",
        "colab_type": "code",
        "colab": {}
      },
      "source": [
        "def select_features(feature_select_func,X_train, y_train, X_test):\n",
        "\tfs = SelectKBest(score_func=feature_select_func , k=4)\n",
        "\tfs.fit(X_train, y_train)\n",
        "\tX_train_fs = fs.transform(X_train)\n",
        "\tX_test_fs = fs.transform(X_test)\n",
        "\treturn X_train_fs, X_test_fs, fs\n",
        "\t"
      ],
      "execution_count": 0,
      "outputs": []
    },
    {
      "cell_type": "code",
      "metadata": {
        "id": "649C2KiLfQkm",
        "colab_type": "code",
        "colab": {}
      },
      "source": [
        "def plot_features(fs): \n",
        "\tfor i in range(len(fs.scores_)):\n",
        "\t\tprint('Feature %d: %f' % (i, fs.scores_[i]))\n",
        "\t# plot the scores\n",
        "\tpyplot.title(str(name))\n",
        "\tpyplot.bar([i for i in range(len(fs.scores_))], fs.scores_)\n",
        "\tpyplot.show()"
      ],
      "execution_count": 0,
      "outputs": []
    },
    {
      "cell_type": "code",
      "metadata": {
        "id": "9Ok8RhptbEph",
        "colab_type": "code",
        "outputId": "d8c1080d-8127-4e80-fb9e-641b5d051bc9",
        "colab": {
          "base_uri": "https://localhost:8080/",
          "height": 1000
        }
      },
      "source": [
        "selection_technique = [skfs.chi2,skfs.f_classif,skfs.mutual_info_classif]\n",
        "for i,name in enumerate(selection_technique):\n",
        "\t#print(i)\n",
        "\tX_train_fs, X_test_fs, fs = select_features(name,X_train_enc, y_train_enc, X_test_enc)\n",
        "\t# what are scores for the features\n",
        "\tplot_features(fs)"
      ],
      "execution_count": 60,
      "outputs": [
        {
          "output_type": "stream",
          "text": [
            "Feature 0: 0.472553\n",
            "Feature 1: 0.029193\n",
            "Feature 2: 2.137658\n",
            "Feature 3: 29.381059\n",
            "Feature 4: 8.222601\n",
            "Feature 5: 8.100183\n",
            "Feature 6: 1.273822\n",
            "Feature 7: 0.950682\n",
            "Feature 8: 3.699989\n"
          ],
          "name": "stdout"
        },
        {
          "output_type": "display_data",
          "data": {
            "image/png": "[encoded data removed]",
            "text/plain": [
              "<Figure size 432x288 with 1 Axes>"
            ]
          },
          "metadata": {
            "tags": []
          }
        },
        {
          "output_type": "stream",
          "text": [
            "Feature 0: 1.192779\n",
            "Feature 1: 0.032763\n",
            "Feature 2: 1.901125\n",
            "Feature 3: 8.661716\n",
            "Feature 4: 8.436469\n",
            "Feature 5: 18.030146\n",
            "Feature 6: 2.343632\n",
            "Feature 7: 1.369470\n",
            "Feature 8: 5.020085\n"
          ],
          "name": "stdout"
        },
        {
          "output_type": "display_data",
          "data": {
            "image/png": "[encoded data removed]",
            "text/plain": [
              "<Figure size 432x288 with 1 Axes>"
            ]
          },
          "metadata": {
            "tags": []
          }
        },
        {
          "output_type": "stream",
          "text": [
            "Feature 0: 0.008184\n",
            "Feature 1: 0.000000\n",
            "Feature 2: 0.091371\n",
            "Feature 3: 0.000000\n",
            "Feature 4: 0.000000\n",
            "Feature 5: 0.067717\n",
            "Feature 6: 0.000000\n",
            "Feature 7: 0.000000\n",
            "Feature 8: 0.027801\n"
          ],
          "name": "stdout"
        },
        {
          "output_type": "display_data",
          "data": {
            "image/png": "[encoded data removed]",
            "text/plain": [
              "<Figure size 432x288 with 1 Axes>"
            ]
          },
          "metadata": {
            "tags": []
          }
        }
      ]
    },
    {
      "cell_type": "markdown",
      "metadata": {
        "id": "cG9pwK7kb2_V",
        "colab_type": "text"
      },
      "source": [
        "Different Feature Selection Techniques gives different important features . So , One of the ways is to select different n features and compare accuracy .\n",
        "\n",
        "**Using Logistic Regression**"
      ]
    },
    {
      "cell_type": "code",
      "metadata": {
        "id": "KFi7tJt9bkgL",
        "colab_type": "code",
        "colab": {
          "base_uri": "https://localhost:8080/",
          "height": 235
        },
        "outputId": "92e906b7-da6d-44b0-bd0f-61ac7f7b8319"
      },
      "source": [
        "print(\"Base Model With All features\")\n",
        "model = LogisticRegression(solver='lbfgs')\n",
        "model.fit(X_train_enc, y_train_enc)\n",
        "# evaluate the model\n",
        "yhat = model.predict(X_test_enc)\n",
        "# evaluate predictions\n",
        "accuracy = accuracy_score(y_test_enc, yhat)\n",
        "f1score = f1_score(y_test_enc,yhat) \n",
        "print('Accuracy: %.2f' % (accuracy*100))\n",
        "print('F1Score: %.2f' % (f1score*100))\n",
        "\n",
        "#fit the model\n",
        "\n",
        "for i,name in enumerate(selection_technique):\n",
        "  print(\"Model -> \" , name)\n",
        "  X_train_fs, X_test_fs, fs = select_features(name,X_train_enc, y_train_enc, X_test_enc)\n",
        "  model = LogisticRegression(solver='liblinear')\n",
        "  model.fit(X_train_fs, y_train_enc)\n",
        "  # evaluate the model\n",
        "  yhat = model.predict(X_test_fs)\n",
        "  # evaluate predictions\n",
        "  accuracy = accuracy_score(y_test_enc, yhat)\n",
        "  f1score = f1_score(y_test_enc,yhat) \n",
        "  print('Accuracy: %.2f' % (accuracy*100))\n",
        "  print('F1Score: %.2f' % (f1score*100))\n",
        "#  plot_features(fs)\n"
      ],
      "execution_count": 64,
      "outputs": [
        {
          "output_type": "stream",
          "text": [
            "Base Model With All features\n",
            "Accuracy: 75.79\n",
            "F1Score: 48.89\n",
            "Model ->  <function chi2 at 0x7f0019ba1c80>\n",
            "Accuracy: 73.68\n",
            "F1Score: 39.02\n",
            "Model ->  <function f_classif at 0x7f0019ba1b70>\n",
            "Accuracy: 73.68\n",
            "F1Score: 39.02\n",
            "Model ->  <function mutual_info_classif at 0x7f00178c06a8>\n",
            "Accuracy: 70.53\n",
            "F1Score: 26.32\n"
          ],
          "name": "stdout"
        }
      ]
    },
    {
      "cell_type": "code",
      "metadata": {
        "id": "n3LD9CAhw645",
        "colab_type": "code",
        "colab": {
          "base_uri": "https://localhost:8080/",
          "height": 297
        },
        "outputId": "62bde5fe-1006-4527-cb63-beb1b0b85f54"
      },
      "source": [
        "pyplot.scatter(y_test_enc, yhat , )\n",
        "pyplot.xlabel('Predicted')\n",
        "pyplot.ylabel('True')\n",
        "pyplot.legend()\n",
        "pyplot.show()"
      ],
      "execution_count": 36,
      "outputs": [
        {
          "output_type": "stream",
          "text": [
            "No handles with labels found to put in legend.\n"
          ],
          "name": "stderr"
        },
        {
          "output_type": "display_data",
          "data": {
            "image/png": "[encoded data removed]",
            "text/plain": [
              "<Figure size 432x288 with 1 Axes>"
            ]
          },
          "metadata": {
            "tags": []
          }
        }
      ]
    },
    {
      "cell_type": "markdown",
      "metadata": {
        "id": "uve_LW0Qrsku",
        "colab_type": "text"
      },
      "source": [
        "**Using SVM to find accuracy of chosen features**"
      ]
    },
    {
      "cell_type": "code",
      "metadata": {
        "id": "s4FBvHcmrqFe",
        "colab_type": "code",
        "colab": {
          "base_uri": "https://localhost:8080/",
          "height": 235
        },
        "outputId": "6b612a83-8e6f-4003-942a-b3a7c82b8154"
      },
      "source": [
        "print(\"Base Model With All features using model SVM\")\n",
        "model = SVC(gamma='auto')\n",
        "model.fit(X_train_enc, y_train_enc)\n",
        "# evaluate the model\n",
        "yhat = model.predict(X_test_enc)\n",
        "# evaluate predictions\n",
        "accuracy = accuracy_score(y_test_enc, yhat)\n",
        "f1score = f1_score(y_test_enc,yhat) \n",
        "print('Accuracy: %.2f' % (accuracy*100))\n",
        "print('F1Score: %.2f' % (f1score*100))\n",
        "\n",
        "#fit the model\n",
        "\n",
        "for i,name in enumerate(selection_technique):\n",
        "  print(\"Model -> \" , name)\n",
        "  X_train_fs, X_test_fs, fs = select_features(name,X_train_enc, y_train_enc, X_test_enc)\n",
        "  model = SVC(C=1.5,gamma='auto')\n",
        "  model.fit(X_train_fs, y_train_enc)\n",
        "  # evaluate the model\n",
        "  yhat = model.predict(X_test_fs)\n",
        "  # evaluate predictions\n",
        "  accuracy = accuracy_score(y_test_enc, yhat)\n",
        "  f1score = f1_score(y_test_enc,yhat) \n",
        "  print('Accuracy: %.2f' % (accuracy*100))\n",
        "  print('F1Score: %.2f' % (f1score*100))"
      ],
      "execution_count": 37,
      "outputs": [
        {
          "output_type": "stream",
          "text": [
            "Base Model With All features using model SVM\n",
            "Accuracy: 68.42\n",
            "F1Score: 21.05\n",
            "Model ->  <function chi2 at 0x7f0019ba1c80>\n",
            "Accuracy: 76.84\n",
            "F1Score: 52.17\n",
            "Model ->  <function f_classif at 0x7f0019ba1b70>\n",
            "Accuracy: 76.84\n",
            "F1Score: 52.17\n",
            "Model ->  <function mutual_info_classif at 0x7f00178c06a8>\n",
            "Accuracy: 68.42\n",
            "F1Score: 44.44\n"
          ],
          "name": "stdout"
        }
      ]
    },
    {
      "cell_type": "code",
      "metadata": {
        "id": "UgeVm7hbeFBw",
        "colab_type": "code",
        "colab": {
          "base_uri": "https://localhost:8080/",
          "height": 53
        },
        "outputId": "a8c9446c-7f17-440f-908f-1f6642d9a136"
      },
      "source": [
        "model= tree.DecisionTreeClassifier()\n",
        "model.fit(X_train_enc,y_train_enc)\n",
        "\n",
        "yhat = model.predict(X_test_enc)\n",
        "# evaluate predictions\n",
        "accuracy = accuracy_score(y_test_enc, yhat)\n",
        "f1score = f1_score(y_test_enc,yhat) \n",
        "\n",
        "print('Accuracy: %.2f' % (accuracy*100))\n",
        "print('F1Score: %.2f' % (f1score*100))\n",
        "for i,name in enumerate(selection_technique):\n",
        "  print(\"Model -> \" , name)\n",
        "  X_train_fs, X_test_fs, fs = select_features(name,X_train_enc, y_train_enc, X_test_enc)\n",
        "  model = SVC(C=1.5,gamma='auto')\n",
        "  model.fit(X_train_fs, y_train_enc)\n",
        "  # evaluate the model\n",
        "  yhat = model.predict(X_test_fs)\n",
        "  # evaluate predictions\n",
        "  accuracy = accuracy_score(y_test_enc, yhat)\n",
        "  f1score = f1_score(y_test_enc,yhat) \n",
        "  print('Accuracy: %.2f' % (accuracy*100))\n",
        "  print('F1Score: %.2f' % (f1score*100))\n"
      ],
      "execution_count": 57,
      "outputs": [
        {
          "output_type": "stream",
          "text": [
            "Accuracy: 72.63\n",
            "F1Score: 51.85\n"
          ],
          "name": "stdout"
        }
      ]
    },
    {
      "cell_type": "markdown",
      "metadata": {
        "id": "giqqiBFre_w2",
        "colab_type": "text"
      },
      "source": [
        "**Decision Tree**"
      ]
    },
    {
      "cell_type": "code",
      "metadata": {
        "colab_type": "code",
        "outputId": "efaaa629-f8f8-4fee-b4d8-a90a424a0e5d",
        "id": "vyTZlxHEe00x",
        "colab": {
          "base_uri": "https://localhost:8080/",
          "height": 217
        }
      },
      "source": [
        "model= tree.DecisionTreeClassifier()\n",
        "model.fit(X_train_enc,y_train_enc)\n",
        "yhat = model.predict(X_test_enc)\n",
        "# evaluate predictions\n",
        "\n",
        "accuracy = accuracy_score(y_test_enc, yhat)\n",
        "f1score = f1_score(y_test_enc,yhat) \n",
        "\n",
        "print('Accuracy: %.2f' % (accuracy*100))\n",
        "print('F1Score: %.2f' % (f1score*100))\n",
        "\n",
        "for i,name in enumerate(selection_technique):\n",
        "  print(\"Model -> \" , name)\n",
        "  X_train_fs, X_test_fs, fs = select_features(name,X_train_enc, y_train_enc, X_test_enc)\n",
        "  model= tree.DecisionTreeClassifier()\n",
        "  model.fit(X_train_enc,y_train_enc)\n",
        "\n",
        "  yhat = model.predict(X_test_enc)\n",
        "  # evaluate predictions\n",
        "  accuracy = accuracy_score(y_test_enc, yhat)\n",
        "  f1score = f1_score(y_test_enc,yhat) \n",
        "  print('Accuracy: %.2f' % (accuracy*100))\n",
        "  print('F1Score: %.2f' % (f1score*100))\n"
      ],
      "execution_count": 58,
      "outputs": [
        {
          "output_type": "stream",
          "text": [
            "Accuracy: 71.58\n",
            "F1Score: 49.06\n",
            "Model ->  <function chi2 at 0x7f0019ba1c80>\n",
            "Accuracy: 67.37\n",
            "F1Score: 39.22\n",
            "Model ->  <function f_classif at 0x7f0019ba1b70>\n",
            "Accuracy: 70.53\n",
            "F1Score: 44.00\n",
            "Model ->  <function mutual_info_classif at 0x7f00178c06a8>\n",
            "Accuracy: 72.63\n",
            "F1Score: 51.85\n"
          ],
          "name": "stdout"
        }
      ]
    },
    {
      "cell_type": "markdown",
      "metadata": {
        "id": "RKs1PPhkuvmy",
        "colab_type": "text"
      },
      "source": [
        "**Using Simple FCNN**"
      ]
    },
    {
      "cell_type": "code",
      "metadata": {
        "id": "f8dgNG7PtkaO",
        "colab_type": "code",
        "colab": {}
      },
      "source": [
        "model = tf.keras.models.Sequential()\n",
        "model.add(layers.Dense(4, activation='relu',kernel_regularizer=regularizers.l2(0.001)))\n",
        "model.add(layers.Dense(2, activation='relu',kernel_regularizer=regularizers.l2(0.002)))\n",
        "model.add(layers.Dense(1, activation='sigmoid'))"
      ],
      "execution_count": 0,
      "outputs": []
    },
    {
      "cell_type": "code",
      "metadata": {
        "id": "H8RImlncto33",
        "colab_type": "code",
        "colab": {}
      },
      "source": [
        "#compilethemodel\n",
        "model.compile(optimizer='adam',\n",
        "              loss='binary_crossentropy',\n",
        "              metrics=['accuracy'])"
      ],
      "execution_count": 0,
      "outputs": []
    },
    {
      "cell_type": "code",
      "metadata": {
        "id": "XFMInUG5vYxu",
        "colab_type": "code",
        "colab": {
          "base_uri": "https://localhost:8080/",
          "height": 780
        },
        "outputId": "fa8a1939-9ffc-41c4-ca72-f7a2e9b95e48"
      },
      "source": [
        "model.fit(X_train_fs, y_train_enc, epochs=20, batch_size=16, shuffle=True)"
      ],
      "execution_count": 41,
      "outputs": [
        {
          "output_type": "stream",
          "text": [
            "Train on 191 samples\n",
            "Epoch 1/20\n",
            "191/191 [==============================] - 0s 3ms/sample - loss: 0.6662 - accuracy: 0.7382\n",
            "Epoch 2/20\n",
            "191/191 [==============================] - 0s 137us/sample - loss: 0.6629 - accuracy: 0.7382\n",
            "Epoch 3/20\n",
            "191/191 [==============================] - 0s 144us/sample - loss: 0.6601 - accuracy: 0.7382\n",
            "Epoch 4/20\n",
            "191/191 [==============================] - 0s 127us/sample - loss: 0.6576 - accuracy: 0.7330\n",
            "Epoch 5/20\n",
            "191/191 [==============================] - 0s 146us/sample - loss: 0.6551 - accuracy: 0.7330\n",
            "Epoch 6/20\n",
            "191/191 [==============================] - 0s 142us/sample - loss: 0.6532 - accuracy: 0.7330\n",
            "Epoch 7/20\n",
            "191/191 [==============================] - 0s 138us/sample - loss: 0.6514 - accuracy: 0.7277\n",
            "Epoch 8/20\n",
            "191/191 [==============================] - 0s 139us/sample - loss: 0.6499 - accuracy: 0.7277\n",
            "Epoch 9/20\n",
            "191/191 [==============================] - 0s 149us/sample - loss: 0.6475 - accuracy: 0.7277\n",
            "Epoch 10/20\n",
            "191/191 [==============================] - 0s 170us/sample - loss: 0.6454 - accuracy: 0.7277\n",
            "Epoch 11/20\n",
            "191/191 [==============================] - 0s 145us/sample - loss: 0.6432 - accuracy: 0.7277\n",
            "Epoch 12/20\n",
            "191/191 [==============================] - 0s 150us/sample - loss: 0.6417 - accuracy: 0.7277\n",
            "Epoch 13/20\n",
            "191/191 [==============================] - 0s 138us/sample - loss: 0.6389 - accuracy: 0.7277\n",
            "Epoch 14/20\n",
            "191/191 [==============================] - 0s 132us/sample - loss: 0.6371 - accuracy: 0.7277\n",
            "Epoch 15/20\n",
            "191/191 [==============================] - 0s 175us/sample - loss: 0.6353 - accuracy: 0.7277\n",
            "Epoch 16/20\n",
            "191/191 [==============================] - 0s 169us/sample - loss: 0.6336 - accuracy: 0.7277\n",
            "Epoch 17/20\n",
            "191/191 [==============================] - 0s 152us/sample - loss: 0.6322 - accuracy: 0.7277\n",
            "Epoch 18/20\n",
            "191/191 [==============================] - 0s 146us/sample - loss: 0.6303 - accuracy: 0.7277\n",
            "Epoch 19/20\n",
            "191/191 [==============================] - 0s 130us/sample - loss: 0.6288 - accuracy: 0.7277\n",
            "Epoch 20/20\n",
            "191/191 [==============================] - 0s 143us/sample - loss: 0.6272 - accuracy: 0.7277\n"
          ],
          "name": "stdout"
        },
        {
          "output_type": "execute_result",
          "data": {
            "text/plain": [
              "<tensorflow.python.keras.callbacks.History at 0x7efff921eeb8>"
            ]
          },
          "metadata": {
            "tags": []
          },
          "execution_count": 41
        }
      ]
    },
    {
      "cell_type": "code",
      "metadata": {
        "id": "ENv3QRK5vpWw",
        "colab_type": "code",
        "colab": {
          "base_uri": "https://localhost:8080/",
          "height": 271
        },
        "outputId": "4f8d99f2-aab3-4b60-a8b3-0c51b6106530"
      },
      "source": [
        "model.summary()"
      ],
      "execution_count": 42,
      "outputs": [
        {
          "output_type": "stream",
          "text": [
            "Model: \"sequential_2\"\n",
            "_________________________________________________________________\n",
            "Layer (type)                 Output Shape              Param #   \n",
            "=================================================================\n",
            "dense_6 (Dense)              multiple                  20        \n",
            "_________________________________________________________________\n",
            "dense_7 (Dense)              multiple                  10        \n",
            "_________________________________________________________________\n",
            "dense_8 (Dense)              multiple                  3         \n",
            "=================================================================\n",
            "Total params: 33\n",
            "Trainable params: 33\n",
            "Non-trainable params: 0\n",
            "_________________________________________________________________\n"
          ],
          "name": "stdout"
        }
      ]
    },
    {
      "cell_type": "code",
      "metadata": {
        "id": "2rCKhRNxYm0D",
        "colab_type": "code",
        "colab": {}
      },
      "source": [
        ""
      ],
      "execution_count": 0,
      "outputs": []
    }
  ]
}